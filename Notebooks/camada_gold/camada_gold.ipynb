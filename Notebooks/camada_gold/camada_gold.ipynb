{
 "cells": [
  {
   "cell_type": "markdown",
   "metadata": {
    "application/vnd.databricks.v1+cell": {
     "cellMetadata": {},
     "inputWidgets": {},
     "nuid": "c3d27042-fd6d-4e6d-b8dd-f0775357103a",
     "showTitle": false,
     "tableResultSettingsMap": {},
     "title": ""
    }
   },
   "source": [
    "# Carga dos dados na camada gold"
   ]
  },
  {
   "cell_type": "code",
   "execution_count": 0,
   "metadata": {
    "application/vnd.databricks.v1+cell": {
     "cellMetadata": {
      "byteLimit": 2048000,
      "rowLimit": 10000
     },
     "inputWidgets": {},
     "nuid": "ca24cc1c-90ec-458f-be5f-c1f636149d10",
     "showTitle": false,
     "tableResultSettingsMap": {},
     "title": ""
    }
   },
   "outputs": [],
   "source": [
    "from pyspark.sql.functions import col, year, month, count, sum, avg, current_date, current_timestamp,unix_timestamp, when, lit\n",
    "\n",
    "anos = ParamAno\n",
    "meses = ParamMes\n",
    "df_gold = None\n",
    "\n",
    "df_silver =  spark.read.table(\"table_silver\") \n",
    "df_silver = df_silver.withColumn(\"duracao_viagens\", unix_timestamp(col(\"tpep_dropoff_datetime\"))- unix_timestamp(col(\"tpep_pickup_datetime\"))/60)\n",
    "df_gold = (\n",
    "df_silver\n",
    ".withColumn(\"Ano\", year(\"tpep_pickup_datetime\"))\n",
    ".withColumn(\"Mes\", month(\"tpep_pickup_datetime\"))\n",
    ".withColumn(\"Nome_Mes\", when(month(col(\"tpep_pickup_datetime\")) == 1, lit(\"Janeiro\"))\n",
    ".when(month(col(\"tpep_pickup_datetime\")) == 2, lit(\"Fevereiro\"))\n",
    ".when(month(col(\"tpep_pickup_datetime\")) == 3, \"Março\")\n",
    ".when(month(col(\"tpep_pickup_datetime\")) == 4, \"Abril\")\n",
    ".when(month(col(\"tpep_pickup_datetime\")) == 5, \"Maio\")\n",
    ".when(month(col(\"tpep_pickup_datetime\")) == 6, \"Junho\")\n",
    ".when(month(col(\"tpep_pickup_datetime\")) == 7, \"Julho\")\n",
    ".when(month(col(\"tpep_pickup_datetime\")) == 8, \"Agosto\")\n",
    ".when(month(col(\"tpep_pickup_datetime\")) == 9, \"Setembro\")\n",
    ".when(month(col(\"tpep_pickup_datetime\")) == 10, \"Outubro\")\n",
    ".when(month(col(\"tpep_pickup_datetime\")) == 11, \"Novembro\")\n",
    ".when(month(col(\"tpep_pickup_datetime\")) == 12, \"Dezembro\"))\n",
    ".groupBy(\"Ano\", \"Mes\",\"Nome_Mes\")\n",
    ".agg(\n",
    "    count(\"*\").alias(\"Total_Corridas\"),\n",
    "    sum(\"total_amount\").cast(\"decimal(18,2)\").alias(\"Receita_Total\"),\n",
    "    avg(\"trip_distance\").cast(\"decimal(18,2)\").alias(\"Media_Distancia\"),\n",
    "    avg(\"passenger_count\").cast(\"decimal(18,2)\").alias(\"Media_Passageiros\"),                \n",
    "    sum(\"fare_amount\").cast(\"decimal(18,2)\").alias(\"Total_Tarifas\"),\n",
    "    avg(\"duracao_viagens\").cast(\"decimal(18,2)\").alias(\"Media_Tempo_Viagem\")\n",
    ")\n",
    "# Adiciona colunas de auditoria\n",
    ".withColumn(\"Dt_carga_gold\", current_date())\n",
    ".withColumn(\"Ts_carga_gold\", current_timestamp())\n",
    ")\n",
    "\n",
    "df_gold.write.mode('overwrite').format(\"delta\").saveAsTable(\"table_gold\") \n",
    "   "
   ]
  },
  {
   "cell_type": "markdown",
   "metadata": {
    "application/vnd.databricks.v1+cell": {
     "cellMetadata": {},
     "inputWidgets": {},
     "nuid": "d3da3a99-9d91-4a30-a8dd-e1f637e0671d",
     "showTitle": false,
     "tableResultSettingsMap": {},
     "title": ""
    }
   },
   "source": [
    "### Rank dos 3 meses com maior receita por ano"
   ]
  },
  {
   "cell_type": "code",
   "execution_count": 0,
   "metadata": {
    "application/vnd.databricks.v1+cell": {
     "cellMetadata": {
      "byteLimit": 2048000,
      "implicitDf": true,
      "rowLimit": 10000
     },
     "inputWidgets": {},
     "nuid": "d05f7c81-3fb0-4535-993e-c62b53ff2318",
     "showTitle": false,
     "tableResultSettingsMap": {},
     "title": ""
    }
   },
   "outputs": [
    {
     "output_type": "display_data",
     "data": {
      "text/html": [
       "<style scoped>\n",
       "  .table-result-container {\n",
       "    max-height: 300px;\n",
       "    overflow: auto;\n",
       "  }\n",
       "  table, th, td {\n",
       "    border: 1px solid black;\n",
       "    border-collapse: collapse;\n",
       "  }\n",
       "  th, td {\n",
       "    padding: 5px;\n",
       "  }\n",
       "  th {\n",
       "    text-align: left;\n",
       "  }\n",
       "</style><div class='table-result-container'><table class='table-result'><thead style='background-color: white'><tr><th>Ano</th><th>Nome_Mes</th><th>Receita_Total</th><th>Ranking</th></tr></thead><tbody><tr><td>2001</td><td>Janeiro</td><td>171.70</td><td>1</td></tr><tr><td>2002</td><td>Dezembro</td><td>117.25</td><td>1</td></tr><tr><td>2003</td><td>Janeiro</td><td>209.45</td><td>1</td></tr><tr><td>2008</td><td>Dezembro</td><td>264.95</td><td>1</td></tr><tr><td>2009</td><td>Janeiro</td><td>16.40</td><td>1</td></tr><tr><td>2014</td><td>Novembro</td><td>52.38</td><td>1</td></tr><tr><td>2022</td><td>Dezembro</td><td>658.23</td><td>1</td></tr><tr><td>2022</td><td>Outubro</td><td>332.26</td><td>2</td></tr><tr><td>2023</td><td>Março</td><td>89371940.14</td><td>1</td></tr><tr><td>2023</td><td>Janeiro</td><td>78382549.59</td><td>2</td></tr><tr><td>2023</td><td>Fevereiro</td><td>74062127.53</td><td>3</td></tr></tbody></table></div>"
      ]
     },
     "metadata": {
      "application/vnd.databricks.v1+output": {
       "addedWidgets": {},
       "aggData": [],
       "aggError": "",
       "aggOverflow": false,
       "aggSchema": [],
       "aggSeriesLimitReached": false,
       "aggType": "",
       "arguments": {},
       "columnCustomDisplayInfos": {},
       "data": [
        [
         2001,
         "Janeiro",
         "171.70",
         1
        ],
        [
         2002,
         "Dezembro",
         "117.25",
         1
        ],
        [
         2003,
         "Janeiro",
         "209.45",
         1
        ],
        [
         2008,
         "Dezembro",
         "264.95",
         1
        ],
        [
         2009,
         "Janeiro",
         "16.40",
         1
        ],
        [
         2014,
         "Novembro",
         "52.38",
         1
        ],
        [
         2022,
         "Dezembro",
         "658.23",
         1
        ],
        [
         2022,
         "Outubro",
         "332.26",
         2
        ],
        [
         2023,
         "Março",
         "89371940.14",
         1
        ],
        [
         2023,
         "Janeiro",
         "78382549.59",
         2
        ],
        [
         2023,
         "Fevereiro",
         "74062127.53",
         3
        ]
       ],
       "datasetInfos": [],
       "dbfsResultPath": null,
       "isJsonSchema": true,
       "metadata": {
        "dataframeName": "_sqldf",
        "executionCount": 6
       },
       "overflow": false,
       "plotOptions": {
        "customPlotOptions": {},
        "displayType": "table",
        "pivotAggregation": null,
        "pivotColumns": null,
        "xColumns": null,
        "yColumns": null
       },
       "removedWidgets": [],
       "schema": [
        {
         "metadata": "{}",
         "name": "Ano",
         "type": "\"integer\""
        },
        {
         "metadata": "{}",
         "name": "Nome_Mes",
         "type": "\"string\""
        },
        {
         "metadata": "{}",
         "name": "Receita_Total",
         "type": "\"decimal(18,2)\""
        },
        {
         "metadata": "{}",
         "name": "Ranking",
         "type": "\"integer\""
        }
       ],
       "type": "table"
      }
     },
     "output_type": "display_data"
    }
   ],
   "source": [
    "%sql\n",
    "SELECT \n",
    "    Ano,\n",
    "    Nome_Mes,\n",
    "    Receita_Total,\n",
    "    RANK() OVER (PARTITION BY Ano ORDER BY Receita_Total DESC) AS Ranking\n",
    "FROM table_gold\n",
    "QUALIFY RANK() OVER (PARTITION BY Ano ORDER BY Receita_Total DESC) <= 3\n",
    "ORDER BY Ano, Ranking;"
   ]
  },
  {
   "cell_type": "markdown",
   "metadata": {
    "application/vnd.databricks.v1+cell": {
     "cellMetadata": {},
     "inputWidgets": {},
     "nuid": "376c02cf-72f9-4618-a416-a0d7ea47e648",
     "showTitle": false,
     "tableResultSettingsMap": {},
     "title": ""
    }
   },
   "source": [
    "###  **Receita_por_Corrida** Calcula a Receita  por corrida considerando a receita total e o total da corrida\n",
    "\n",
    "###  **Tarifa_por_Corrida** Calcula a Tarifa por corrida considerando a tarifas total e o total da corrida\n"
   ]
  },
  {
   "cell_type": "code",
   "execution_count": 0,
   "metadata": {
    "application/vnd.databricks.v1+cell": {
     "cellMetadata": {
      "byteLimit": 2048000,
      "implicitDf": true,
      "rowLimit": 10000
     },
     "inputWidgets": {},
     "nuid": "9971b821-af0a-483f-8ce1-be8a49c1573c",
     "showTitle": false,
     "tableResultSettingsMap": {
      "0": {
       "dataGridStateBlob": "{\"version\":1,\"tableState\":{\"columnPinning\":{\"left\":[\"#row_number#\"],\"right\":[]},\"columnSizing\":{},\"columnVisibility\":{}},\"settings\":{\"columns\":{}},\"syncTimestamp\":1759340522590}",
       "filterBlob": null,
       "queryPlanFiltersBlob": null,
       "tableResultIndex": 0
      }
     },
     "title": ""
    }
   },
   "outputs": [
    {
     "output_type": "display_data",
     "data": {
      "text/html": [
       "<style scoped>\n",
       "  .table-result-container {\n",
       "    max-height: 300px;\n",
       "    overflow: auto;\n",
       "  }\n",
       "  table, th, td {\n",
       "    border: 1px solid black;\n",
       "    border-collapse: collapse;\n",
       "  }\n",
       "  th, td {\n",
       "    padding: 5px;\n",
       "  }\n",
       "  th {\n",
       "    text-align: left;\n",
       "  }\n",
       "</style><div class='table-result-container'><table class='table-result'><thead style='background-color: white'><tr><th>Ano</th><th>Nome_Mes</th><th>Receita_por_Corrida</th><th>Tarifa_por_Corrida</th></tr></thead><tbody><tr><td>2001</td><td>Janeiro</td><td>57.23</td><td>47.97</td></tr><tr><td>2002</td><td>Dezembro</td><td>58.63</td><td>50.85</td></tr><tr><td>2003</td><td>Janeiro</td><td>69.82</td><td>64.13</td></tr><tr><td>2008</td><td>Dezembro</td><td>37.85</td><td>30.17</td></tr><tr><td>2009</td><td>Janeiro</td><td>16.40</td><td>11.40</td></tr><tr><td>2014</td><td>Novembro</td><td>52.38</td><td>33.10</td></tr><tr><td>2022</td><td>Outubro</td><td>55.38</td><td>48.17</td></tr><tr><td>2022</td><td>Dezembro</td><td>26.33</td><td>16.63</td></tr><tr><td>2023</td><td>Janeiro</td><td>26.97</td><td>18.26</td></tr><tr><td>2023</td><td>Fevereiro</td><td>26.89</td><td>18.14</td></tr><tr><td>2023</td><td>Março</td><td>27.78</td><td>18.81</td></tr><tr><td>2023</td><td>Abril</td><td>26.02</td><td>17.53</td></tr></tbody></table></div>"
      ]
     },
     "metadata": {
      "application/vnd.databricks.v1+output": {
       "addedWidgets": {},
       "aggData": [],
       "aggError": "",
       "aggOverflow": false,
       "aggSchema": [],
       "aggSeriesLimitReached": false,
       "aggType": "",
       "arguments": {},
       "columnCustomDisplayInfos": {},
       "data": [
        [
         2001,
         "Janeiro",
         "57.23",
         "47.97"
        ],
        [
         2002,
         "Dezembro",
         "58.63",
         "50.85"
        ],
        [
         2003,
         "Janeiro",
         "69.82",
         "64.13"
        ],
        [
         2008,
         "Dezembro",
         "37.85",
         "30.17"
        ],
        [
         2009,
         "Janeiro",
         "16.40",
         "11.40"
        ],
        [
         2014,
         "Novembro",
         "52.38",
         "33.10"
        ],
        [
         2022,
         "Outubro",
         "55.38",
         "48.17"
        ],
        [
         2022,
         "Dezembro",
         "26.33",
         "16.63"
        ],
        [
         2023,
         "Janeiro",
         "26.97",
         "18.26"
        ],
        [
         2023,
         "Fevereiro",
         "26.89",
         "18.14"
        ],
        [
         2023,
         "Março",
         "27.78",
         "18.81"
        ],
        [
         2023,
         "Abril",
         "26.02",
         "17.53"
        ]
       ],
       "datasetInfos": [],
       "dbfsResultPath": null,
       "isJsonSchema": true,
       "metadata": {
        "dataframeName": "_sqldf",
        "executionCount": 15
       },
       "overflow": false,
       "plotOptions": {
        "customPlotOptions": {},
        "displayType": "table",
        "pivotAggregation": null,
        "pivotColumns": null,
        "xColumns": null,
        "yColumns": null
       },
       "removedWidgets": [],
       "schema": [
        {
         "metadata": "{}",
         "name": "Ano",
         "type": "\"integer\""
        },
        {
         "metadata": "{}",
         "name": "Nome_Mes",
         "type": "\"string\""
        },
        {
         "metadata": "{}",
         "name": "Receita_por_Corrida",
         "type": "\"decimal(18,2)\""
        },
        {
         "metadata": "{}",
         "name": "Tarifa_por_Corrida",
         "type": "\"decimal(18,2)\""
        }
       ],
       "type": "table"
      }
     },
     "output_type": "display_data"
    }
   ],
   "source": [
    "%sql\n",
    "SELECT \n",
    "    Ano,    \n",
    "    Nome_Mes,    \n",
    "    cast(Receita_Total / Total_Corridas as decimal(18,2)) AS Receita_por_Corrida,\n",
    "    cast(Total_Tarifas / Total_Corridas as decimal(18,2)) AS Tarifa_por_Corrida\n",
    "   \n",
    "FROM table_gold\n",
    "ORDER BY Ano, mes;"
   ]
  },
  {
   "cell_type": "markdown",
   "metadata": {
    "application/vnd.databricks.v1+cell": {
     "cellMetadata": {},
     "inputWidgets": {},
     "nuid": "cd50be52-d16d-4aec-846d-4bb49298d632",
     "showTitle": false,
     "tableResultSettingsMap": {},
     "title": ""
    }
   },
   "source": []
  },
  {
   "cell_type": "markdown",
   "metadata": {
    "application/vnd.databricks.v1+cell": {
     "cellMetadata": {},
     "inputWidgets": {},
     "nuid": "94b21321-7dc7-4411-a987-0239f4e869ce",
     "showTitle": false,
     "tableResultSettingsMap": {},
     "title": ""
    }
   },
   "source": [
    "###  **Receita_por_Corrida** Calcula a Receita  por corrida considerando a receita total e o total da corrida\n",
    "\n",
    "###  **Tarifa_por_Corrida** Calcula a Tarifa por corrida considerando a tarifas total e o total da corrida\n",
    "### **Receita_liquido_corrida** leva em consideração a receita e o valor das tarifas"
   ]
  },
  {
   "cell_type": "code",
   "execution_count": 0,
   "metadata": {
    "application/vnd.databricks.v1+cell": {
     "cellMetadata": {
      "byteLimit": 2048000,
      "implicitDf": true,
      "rowLimit": 10000
     },
     "inputWidgets": {},
     "nuid": "428a4372-8bb2-443a-acb1-472c89fef38c",
     "showTitle": false,
     "tableResultSettingsMap": {
      "0": {
       "dataGridStateBlob": "{\"version\":1,\"tableState\":{\"columnPinning\":{\"left\":[\"#row_number#\"],\"right\":[]},\"columnSizing\":{},\"columnVisibility\":{}},\"settings\":{\"columns\":{}},\"syncTimestamp\":1759342098953}",
       "filterBlob": null,
       "queryPlanFiltersBlob": null,
       "tableResultIndex": 0
      }
     },
     "title": ""
    }
   },
   "outputs": [
    {
     "output_type": "display_data",
     "data": {
      "text/html": [
       "<style scoped>\n",
       "  .table-result-container {\n",
       "    max-height: 300px;\n",
       "    overflow: auto;\n",
       "  }\n",
       "  table, th, td {\n",
       "    border: 1px solid black;\n",
       "    border-collapse: collapse;\n",
       "  }\n",
       "  th, td {\n",
       "    padding: 5px;\n",
       "  }\n",
       "  th {\n",
       "    text-align: left;\n",
       "  }\n",
       "</style><div class='table-result-container'><table class='table-result'><thead style='background-color: white'><tr><th>Receita_por_Corrida</th><th>Tarifa_por_Corrida</th><th>Receita_liquido_corrida</th></tr></thead><tbody><tr><td>57.23</td><td>47.97</td><td>9.26</td></tr><tr><td>58.63</td><td>50.85</td><td>7.78</td></tr><tr><td>69.82</td><td>64.13</td><td>5.69</td></tr><tr><td>37.85</td><td>30.17</td><td>7.68</td></tr><tr><td>16.40</td><td>11.40</td><td>5.00</td></tr><tr><td>52.38</td><td>33.10</td><td>19.28</td></tr><tr><td>55.38</td><td>48.17</td><td>7.21</td></tr><tr><td>26.33</td><td>16.63</td><td>9.70</td></tr><tr><td>26.97</td><td>18.26</td><td>8.71</td></tr><tr><td>26.89</td><td>18.14</td><td>8.75</td></tr><tr><td>27.78</td><td>18.81</td><td>8.97</td></tr><tr><td>26.02</td><td>17.53</td><td>8.49</td></tr></tbody></table></div>"
      ]
     },
     "metadata": {
      "application/vnd.databricks.v1+output": {
       "addedWidgets": {},
       "aggData": [],
       "aggError": "",
       "aggOverflow": false,
       "aggSchema": [],
       "aggSeriesLimitReached": false,
       "aggType": "",
       "arguments": {},
       "columnCustomDisplayInfos": {},
       "data": [
        [
         "57.23",
         "47.97",
         "9.26"
        ],
        [
         "58.63",
         "50.85",
         "7.78"
        ],
        [
         "69.82",
         "64.13",
         "5.69"
        ],
        [
         "37.85",
         "30.17",
         "7.68"
        ],
        [
         "16.40",
         "11.40",
         "5.00"
        ],
        [
         "52.38",
         "33.10",
         "19.28"
        ],
        [
         "55.38",
         "48.17",
         "7.21"
        ],
        [
         "26.33",
         "16.63",
         "9.70"
        ],
        [
         "26.97",
         "18.26",
         "8.71"
        ],
        [
         "26.89",
         "18.14",
         "8.75"
        ],
        [
         "27.78",
         "18.81",
         "8.97"
        ],
        [
         "26.02",
         "17.53",
         "8.49"
        ]
       ],
       "datasetInfos": [],
       "dbfsResultPath": null,
       "isJsonSchema": true,
       "metadata": {
        "dataframeName": "_sqldf",
        "executionCount": 21
       },
       "overflow": false,
       "plotOptions": {
        "customPlotOptions": {},
        "displayType": "table",
        "pivotAggregation": null,
        "pivotColumns": null,
        "xColumns": null,
        "yColumns": null
       },
       "removedWidgets": [],
       "schema": [
        {
         "metadata": "{}",
         "name": "Receita_por_Corrida",
         "type": "\"decimal(18,2)\""
        },
        {
         "metadata": "{}",
         "name": "Tarifa_por_Corrida",
         "type": "\"decimal(18,2)\""
        },
        {
         "metadata": "{}",
         "name": "Receita_liquido_corrida",
         "type": "\"decimal(19,2)\""
        }
       ],
       "type": "table"
      }
     },
     "output_type": "display_data"
    }
   ],
   "source": [
    "%sql\n",
    "select\n",
    "Receita_por_Corrida,\n",
    "Tarifa_por_Corrida,\n",
    " Receita_por_Corrida -Tarifa_por_Corrida as Receita_liquido_corrida\n",
    "from (\n",
    "SELECT \n",
    "    Ano,    \n",
    "    Nome_Mes,\n",
    "    mes,    \n",
    "    cast(Receita_Total / Total_Corridas as decimal(18,2)) AS Receita_por_Corrida,\n",
    "    cast(Total_Tarifas / Total_Corridas as decimal(18,2)) AS Tarifa_por_Corrida\n",
    "   \n",
    "FROM table_gold\n",
    ")\n",
    "ORDER BY Ano, mes;"
   ]
  }
 ],
 "metadata": {
  "application/vnd.databricks.v1+notebook": {
   "computePreferences": null,
   "dashboards": [],
   "environmentMetadata": {
    "base_environment": "",
    "environment_version": "3"
   },
   "inputWidgetPreferences": null,
   "language": "python",
   "notebookMetadata": {
    "mostRecentlyExecutedCommandWithImplicitDF": {
     "commandId": 8886075012259666,
     "dataframes": [
      "_sqldf"
     ]
    },
    "pythonIndentUnit": 4
   },
   "notebookName": "camada_gold",
   "widgets": {
    "Ano": {
     "currentValue": "2023",
     "nuid": "1bed5db2-d11f-4a1c-832c-085c5bdf129e",
     "typedWidgetInfo": {
      "autoCreated": false,
      "defaultValue": "",
      "label": "",
      "name": "Ano",
      "options": {
       "widgetDisplayType": "Text",
       "validationRegex": null
      },
      "parameterDataType": "String"
     },
     "widgetInfo": {
      "widgetType": "text",
      "defaultValue": "",
      "label": "",
      "name": "Ano",
      "options": {
       "widgetType": "text",
       "autoCreated": null,
       "validationRegex": null
      }
     }
    },
    "Mês": {
     "currentValue": "01,02,03",
     "nuid": "68adc6d2-ad5b-49d8-8771-28d685cc3afc",
     "typedWidgetInfo": {
      "autoCreated": false,
      "defaultValue": "",
      "label": "",
      "name": "Mês",
      "options": {
       "widgetDisplayType": "Text",
       "validationRegex": null
      },
      "parameterDataType": "String"
     },
     "widgetInfo": {
      "widgetType": "text",
      "defaultValue": "",
      "label": "",
      "name": "Mês",
      "options": {
       "widgetType": "text",
       "autoCreated": null,
       "validationRegex": null
      }
     }
    }
   }
  },
  "language_info": {
   "name": "python"
  }
 },
 "nbformat": 4,
 "nbformat_minor": 0
}